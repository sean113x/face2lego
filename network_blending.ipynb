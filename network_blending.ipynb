{
  "nbformat": 4,
  "nbformat_minor": 0,
  "metadata": {
    "accelerator": "GPU",
    "colab": {
      "name": "network blending",
      "provenance": [],
      "collapsed_sections": [],
      "machine_shape": "hm",
      "include_colab_link": true
    },
    "kernelspec": {
      "display_name": "Python 3",
      "name": "python3"
    }
  },
  "cells": [
    {
      "cell_type": "markdown",
      "metadata": {
        "id": "view-in-github",
        "colab_type": "text"
      },
      "source": [
        "<a href=\"https://colab.research.google.com/github/sean113x/face2lego/blob/main/network_blending.ipynb\" target=\"_parent\"><img src=\"https://colab.research.google.com/assets/colab-badge.svg\" alt=\"Open In Colab\"/></a>"
      ]
    },
    {
      "cell_type": "markdown",
      "metadata": {
        "id": "vw1_GG8SfSYZ"
      },
      "source": [
        "### colab from : https://www.justinpinkney.com/stylegan-network-blending/"
      ]
    },
    {
      "cell_type": "code",
      "metadata": {
        "colab": {
          "base_uri": "https://localhost:8080/"
        },
        "id": "b8KwDllv54v0",
        "outputId": "4c02d753-9b4a-40d2-f785-56ed0993ddd8"
      },
      "source": [
        "%tensorflow_version 1.x\n",
        "!pip install typer\n",
        "!git clone https://github.com/justinpinkney/stylegan2.git\n",
        "%cd stylegan2"
      ],
      "execution_count": null,
      "outputs": [
        {
          "output_type": "stream",
          "text": [
            "Cloning into 'stylegan2'...\n",
            "remote: Enumerating objects: 269, done.\u001b[K\n",
            "remote: Total 269 (delta 0), reused 0 (delta 0), pack-reused 269\u001b[K\n",
            "Receiving objects: 100% (269/269), 2.32 MiB | 23.27 MiB/s, done.\n",
            "Resolving deltas: 100% (141/141), done.\n",
            "/content/stylegan2\n"
          ],
          "name": "stdout"
        }
      ]
    },
    {
      "cell_type": "code",
      "metadata": {
        "colab": {
          "base_uri": "https://localhost:8080/"
        },
        "id": "SGrn6dyx7MaC",
        "outputId": "4aa3c9ec-69ca-4977-a117-0bc2fdb6070f"
      },
      "source": [
        "#!gdown --id 10HUjcN2g9JoLsKp7On5TclEcHDeZ1dUh #network-snapshot-001226.pkl(my_lego)\n",
        "#!gdown --id 12MbRjpQ-4U5fDhNSQLklBO-C4I5PaE1q #network-snapshot-000624.pkl(my_lego)\n",
        "#!gdown --id 124j850QpNdeOx0m734C08m6pFlU6ASPv #network-snapshot-000600.pkl(my_lego)\n",
        "#!gdown --id 133i5G0jlyB-v24rIshzma-RiNbi3Xcxb #network-snapshot-000048.pkl(my_lego)\n",
        "#!gdown --id 14Fc4sEwH-jgBiBi0dypzFtmm7njw0-bH #network-snapshot-000144.pkl(my_lego)\n",
        "#!gdown --id 1-V4ocSN9P2dhfnq-p-nwbdabGKubBRXW #network-snapshot-000264.pkl(my_lego)\n",
        "#!gdown --id 11WT9x436F5YLjxGIgixBkxf61iQlgRsY #network-snapshot-000552.pkl(my_lego)\n",
        "#!gdown --id 10nmSkO4ijUL5ZSSoLxQR7R6u57dKptCU #network-snapshot-000672.pkl(my_lego)\n",
        "#!gdown --id 120-fAupSjRGRK78MPcu5lCQuav1rnpi9 #network-snapshot-000768.pkl(my_lego)\n",
        "#!gdown --id 109zdKA1OX1fljyy_5W0jQffp4eawbTK2 #network-snapshot-000864.pkl(my_lego)\n",
        "#!gdown --id 1gJ2K48mYLOEMax49yupK1aQ-y53PFmis #ffhq-256-config-e-003810.pkl\n",
        "!gdown --id #blended model\n",
        "!gdown --id 11Hp9neezQfjysi0-aTw0a87cOZjhdq0o #network-snapshot-000000.pkl(ffhq)"
      ],
      "execution_count": null,
      "outputs": [
        {
          "output_type": "stream",
          "text": [
            "Downloading...\n",
            "From: https://drive.google.com/uc?id=109zdKA1OX1fljyy_5W0jQffp4eawbTK2\n",
            "To: /content/stylegan2/network-snapshot-000864.pkl\n",
            "382MB [00:03, 117MB/s]\n",
            "Downloading...\n",
            "From: https://drive.google.com/uc?id=11Hp9neezQfjysi0-aTw0a87cOZjhdq0o\n",
            "To: /content/stylegan2/network-snapshot-000000.pkl\n",
            "382MB [00:06, 60.8MB/s]\n"
          ],
          "name": "stdout"
        }
      ]
    },
    {
      "cell_type": "code",
      "metadata": {
        "id": "IVSbNt1F9K5O"
      },
      "source": [
        "from IPython.display import Image"
      ],
      "execution_count": null,
      "outputs": []
    },
    {
      "cell_type": "code",
      "metadata": {
        "id": "vve_EHFl8EbQ"
      },
      "source": [
        "import blend_models \n",
        "\n",
        "resolutions = (32, 64, 128)\n",
        "for res in resolutions:\n",
        "  filename = f\"blended-{res}.jpg\"\n",
        "  blend_models.main(\"network-snapshot-000864.pkl\", \"network-snapshot-000000.pkl\", res, output_grid=filename)\n",
        "  img = Image(filename=filename)\n",
        "  print(f\"blending at {res}x{res}\")\n",
        "  display(img)"
      ],
      "execution_count": null,
      "outputs": []
    },
    {
      "cell_type": "code",
      "metadata": {
        "colab": {
          "base_uri": "https://localhost:8080/"
        },
        "id": "a-tBWEf3p-0m",
        "outputId": "eff7ddb8-0f12-40a6-c0d5-a093ec09bccf"
      },
      "source": [
        "from google.colab import drive\n",
        "drive.mount(\"/content/drive\", force_remount=True)"
      ],
      "execution_count": null,
      "outputs": [
        {
          "output_type": "stream",
          "text": [
            "Mounted at /content/drive\n"
          ],
          "name": "stdout"
        }
      ]
    },
    {
      "cell_type": "code",
      "metadata": {
        "colab": {
          "base_uri": "https://localhost:8080/"
        },
        "id": "7-sTQ92QDd71",
        "outputId": "1a50a3bc-7166-48bb-846a-d687ad2af980"
      },
      "source": [
        "!python blend_models.py [blend_model] network-snapshot-000000.pkl 128 --output-pkl=\"/content/drive/MyDrive/face2lego-fix/result_blended/face2lego_blended\""
      ],
      "execution_count": null,
      "outputs": [
        {
          "output_type": "stream",
          "text": [
            "Setting up TensorFlow plugin \"fused_bias_act.cu\": Preprocessing... Loading... Done.\n",
            "Setting up TensorFlow plugin \"upfirdn_2d.cu\": Preprocessing... Loading... Done.\n",
            "2021-08-06 01:22:20.844104: W tensorflow/core/common_runtime/bfc_allocator.cc:305] Garbage collection: deallocate free memory regions (i.e., allocations) so that we can re-allocate a larger region to avoid OOM due to memory fragmentation. If you see this message frequently, you are running near the threshold of the available device memory and re-allocation may incur great performance overhead. You may try smaller batch sizes to observe the performance impact. Set TF_ENABLE_GPU_GARBAGE_COLLECTION=false if you'd like to disable this feature.\n"
          ],
          "name": "stdout"
        }
      ]
    }
  ]
}